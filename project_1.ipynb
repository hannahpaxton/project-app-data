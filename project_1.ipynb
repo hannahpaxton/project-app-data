{
 "cells": [
  {
   "cell_type": "markdown",
   "id": "b55e4dab-ecd5-4e7e-8d21-1fd6d5b94ae9",
   "metadata": {},
   "source": [
    "# Analyzing Mobile App Data\n",
    "\n",
    "* The goal of this project is to analyze Android & iOS mobile applications and determine the types of apps that are successful at attracting a high amount of users. \n",
    "* The number of users that view & engage with the ads in-app will determine the revenue, so the company is looking for strageic guidance on the type of applications that may attract a sufficient user base, which will then be served these ads.\n",
    "* Datasets used: [Android Apps](https://www.kaggle.com/datasets/lava18/google-play-store-apps), [iOS Apps](https://www.kaggle.com/datasets/ramamet4/app-store-apple-data-set-10k-apps?select=AppleStore.csv)"
   ]
  },
  {
   "cell_type": "code",
   "execution_count": 3,
   "id": "c850151c-797f-4766-bab5-fcf66bce08b8",
   "metadata": {},
   "outputs": [],
   "source": [
    "from csv import reader\n",
    "\n",
    "### Android data set ###\n",
    "opened_file = open('/Users/hannahpaxton/Desktop/Coursework/googleplaystore.csv')\n",
    "read_file = reader(opened_file)\n",
    "android = list(read_file)\n",
    "android_header = android[0]\n",
    "android = android[1:]\n",
    "\n",
    "### iOS data set ###\n",
    "opened_file = open('/Users/hannahpaxton/Desktop/Coursework/AppleStore.csv')\n",
    "read_file = reader(opened_file)\n",
    "ios = list(read_file)\n",
    "ios_header = ios[0]\n",
    "ios = ios[1:]"
   ]
  },
  {
   "cell_type": "code",
   "execution_count": 5,
   "id": "b1440a90-8313-46d6-8d36-6b4f54783f1e",
   "metadata": {},
   "outputs": [],
   "source": [
    "def explore_data(dataset, start, end, rows_and_columns=False):\n",
    "    dataset_slice = dataset[start:end]\n",
    "    for row in dataset_slice:\n",
    "        print(row)\n",
    "        print('\\n')\n",
    "\n",
    "    if rows_and_columns:\n",
    "        print('Number of rows:', len(dataset))\n",
    "        print('Number of columns:', len(dataset[0]))"
   ]
  },
  {
   "cell_type": "code",
   "execution_count": 9,
   "id": "bc7c8b33-e8c4-42c0-b9df-2d24496f5553",
   "metadata": {},
   "outputs": [
    {
     "name": "stdout",
     "output_type": "stream",
     "text": [
      "['Photo Editor & Candy Camera & Grid & ScrapBook', 'ART_AND_DESIGN', '4.1', '159', '19M', '10,000+', 'Free', '0', 'Everyone', 'Art & Design', 'January 7, 2018', '1.0.0', '4.0.3 and up']\n",
      "\n",
      "\n",
      "['Coloring book moana', 'ART_AND_DESIGN', '3.9', '967', '14M', '500,000+', 'Free', '0', 'Everyone', 'Art & Design;Pretend Play', 'January 15, 2018', '2.0.0', '4.0.3 and up']\n",
      "\n",
      "\n",
      "['U Launcher Lite – FREE Live Cool Themes, Hide Apps', 'ART_AND_DESIGN', '4.7', '87510', '8.7M', '5,000,000+', 'Free', '0', 'Everyone', 'Art & Design', 'August 1, 2018', '1.2.4', '4.0.3 and up']\n",
      "\n",
      "\n",
      "['Sketch - Draw & Paint', 'ART_AND_DESIGN', '4.5', '215644', '25M', '50,000,000+', 'Free', '0', 'Teen', 'Art & Design', 'June 8, 2018', 'Varies with device', '4.2 and up']\n",
      "\n",
      "\n",
      "['Pixel Draw - Number Art Coloring Book', 'ART_AND_DESIGN', '4.3', '967', '2.8M', '100,000+', 'Free', '0', 'Everyone', 'Art & Design;Creativity', 'June 20, 2018', '1.1', '4.4 and up']\n",
      "\n",
      "\n",
      "Number of rows: 10841\n",
      "Number of columns: 13\n",
      "None\n",
      "['284882215', 'Facebook', '389879808', 'USD', '0.0', '2974676', '212', '3.5', '3.5', '95.0', '4+', 'Social Networking', '37', '1', '29', '1']\n",
      "\n",
      "\n",
      "['389801252', 'Instagram', '113954816', 'USD', '0.0', '2161558', '1289', '4.5', '4.0', '10.23', '12+', 'Photo & Video', '37', '0', '29', '1']\n",
      "\n",
      "\n",
      "['529479190', 'Clash of Clans', '116476928', 'USD', '0.0', '2130805', '579', '4.5', '4.5', '9.24.12', '9+', 'Games', '38', '5', '18', '1']\n",
      "\n",
      "\n",
      "['420009108', 'Temple Run', '65921024', 'USD', '0.0', '1724546', '3842', '4.5', '4.0', '1.6.2', '9+', 'Games', '40', '5', '1', '1']\n",
      "\n",
      "\n",
      "['284035177', 'Pandora - Music & Radio', '130242560', 'USD', '0.0', '1126879', '3594', '4.0', '4.5', '8.4.1', '12+', 'Music', '37', '4', '1', '1']\n",
      "\n",
      "\n",
      "Number of rows: 7197\n",
      "Number of columns: 16\n",
      "None\n"
     ]
    }
   ],
   "source": [
    "print(explore_data(android, 0, 5, True))\n",
    "print(explore_data(ios, 0, 5, True))"
   ]
  },
  {
   "cell_type": "code",
   "execution_count": 11,
   "id": "407362cc-14f9-4244-9913-0fe74bf06a2a",
   "metadata": {
    "scrolled": true
   },
   "outputs": [
    {
     "name": "stdout",
     "output_type": "stream",
     "text": [
      "['App', 'Category', 'Rating', 'Reviews', 'Size', 'Installs', 'Type', 'Price', 'Content Rating', 'Genres', 'Last Updated', 'Current Ver', 'Android Ver']\n",
      "['id', 'track_name', 'size_bytes', 'currency', 'price', 'rating_count_tot', 'rating_count_ver', 'user_rating', 'user_rating_ver', 'ver', 'cont_rating', 'prime_genre', 'sup_devices.num', 'ipadSc_urls.num', 'lang.num', 'vpp_lic']\n"
     ]
    }
   ],
   "source": [
    "print(android_header)\n",
    "print(ios_header)"
   ]
  },
  {
   "cell_type": "markdown",
   "id": "686a090e-befd-47a3-b168-4e24c130e004",
   "metadata": {},
   "source": [
    "### Data Cleaning "
   ]
  },
  {
   "cell_type": "markdown",
   "id": "4ca4e9c8-5e71-4b2c-b950-a2894b7ccff9",
   "metadata": {},
   "source": [
    "* Checking to see if a [row with incorrect values](https://www.kaggle.com/datasets/lava18/google-play-store-apps/discussion/66015) was deleted"
   ]
  },
  {
   "cell_type": "code",
   "execution_count": 20,
   "id": "de21ff5a-9681-45c2-bf64-188fe83a6570",
   "metadata": {},
   "outputs": [
    {
     "name": "stdout",
     "output_type": "stream",
     "text": [
      "['osmino Wi-Fi: free WiFi', 'TOOLS', '4.2', '134203', '4.1M', '10,000,000+', 'Free', '0', 'Everyone', 'Tools', 'August 7, 2018', '6.06.14', '4.4 and up']\n"
     ]
    }
   ],
   "source": [
    "print(android[10472])"
   ]
  },
  {
   "cell_type": "code",
   "execution_count": 24,
   "id": "8ded63d5-26fa-4c15-9c93-3d5dcf21f988",
   "metadata": {},
   "outputs": [
    {
     "name": "stdout",
     "output_type": "stream",
     "text": [
      "Number of Duplicate Apps: 1181\n",
      "\n",
      "\n",
      "Example of Duplicate Apps: ['Quick PDF Scanner + OCR FREE', 'Box', 'Google My Business', 'ZOOM Cloud Meetings', 'join.me - Simple Meetings', 'Box', 'Zenefits', 'Google Ads', 'Google My Business', 'Slack', 'FreshBooks Classic', 'Insightly CRM', 'QuickBooks Accounting: Invoicing & Expenses', 'HipChat - Chat Built for Teams', 'Xero Accounting Software']\n"
     ]
    }
   ],
   "source": [
    "duplicate_apps = []\n",
    "unique_apps = []\n",
    "\n",
    "for app in android:\n",
    "    name = app[0]\n",
    "    if name in unique_apps:\n",
    "        duplicate_apps.append(name)\n",
    "    else:\n",
    "        unique_apps.append(name)\n",
    "\n",
    "print('Number of Duplicate Apps:', len(duplicate_apps))\n",
    "print('\\n')\n",
    "print('Example of Duplicate Apps:', duplicate_apps[:15])"
   ]
  },
  {
   "cell_type": "markdown",
   "id": "b860e83f-e385-4a6b-aebb-59a068b7fc80",
   "metadata": {},
   "source": [
    "* Removing duplicate rows for apps (kept record with largest number of ratings, assuming this is the most recent record)"
   ]
  },
  {
   "cell_type": "code",
   "execution_count": 39,
   "id": "702937a2-8dd5-4b76-b3f9-f758064f0c22",
   "metadata": {},
   "outputs": [],
   "source": [
    "reviews_max = {}\n",
    "\n",
    "for app in android:\n",
    "    name = app[0]\n",
    "    n_reviews = float(app[3])\n",
    "    if name in reviews_max and reviews_max[name] < n_reviews:\n",
    "        reviews_max[name] = n_reviews\n",
    "    elif name not in reviews_max:\n",
    "        reviews_max[name] = n_reviews"
   ]
  },
  {
   "cell_type": "code",
   "execution_count": 45,
   "id": "ad4aeff1-9c6a-462d-853d-bf9f2bf11ed3",
   "metadata": {},
   "outputs": [],
   "source": [
    "android_clean = []\n",
    "already_added = []\n",
    "\n",
    "for app in android: \n",
    "    name = app[0]\n",
    "    n_reviews = float(app[3])\n",
    "    if n_reviews == reviews_max[name] and name not in already_added:\n",
    "        android_clean.append(app)\n",
    "        already_added.append(name)"
   ]
  },
  {
   "cell_type": "markdown",
   "id": "d206ee4e-9626-4d2c-9424-ec55b7bbb940",
   "metadata": {},
   "source": [
    "* Removing non-English apps from the data set (as the company only develops applications in English). Uses the [ASCII system](https://en.wikipedia.org/wiki/ASCII) to detect charaters outside those commonly used in English."
   ]
  },
  {
   "cell_type": "code",
   "execution_count": 111,
   "id": "5d6d087c-29f1-445c-94cf-07b43181348c",
   "metadata": {},
   "outputs": [],
   "source": [
    "def character_detect(name):\n",
    "    non_english_char = [] \n",
    "\n",
    "    for character in name:\n",
    "        if ord(character) > 127:\n",
    "            non_english_char.append(character)\n",
    "                \n",
    "    if len(non_english_char) > 3:\n",
    "        return False\n",
    "    else: \n",
    "        return True"
   ]
  },
  {
   "cell_type": "code",
   "execution_count": 113,
   "id": "a97bca9f-9c58-4f71-b705-bf2d0935e3d0",
   "metadata": {},
   "outputs": [
    {
     "name": "stdout",
     "output_type": "stream",
     "text": [
      "True\n",
      "False\n",
      "True\n",
      "True\n"
     ]
    }
   ],
   "source": [
    "print(character_detect('Instagram'))\n",
    "print(character_detect('爱奇艺PPS -《欢乐颂2》电视剧热播'))\n",
    "print(character_detect('Docs To Go™ Free Office Suite'))\n",
    "print(character_detect('Instachat 😜'))"
   ]
  },
  {
   "cell_type": "code",
   "execution_count": 138,
   "id": "6fc79081-3f58-4987-ab3a-75c59e3c7957",
   "metadata": {},
   "outputs": [],
   "source": [
    "def find_english_apps(dataset, name_index):\n",
    "\n",
    "    english_apps = []\n",
    "    non_english_apps = []\n",
    "\n",
    "    for app in dataset: \n",
    "        name = app[name_index]\n",
    "\n",
    "        if character_detect(name):\n",
    "            english_apps.append(app)\n",
    "        else:\n",
    "            non_english_apps.append(app)\n",
    "    return english_apps, non_english_apps"
   ]
  },
  {
   "cell_type": "markdown",
   "id": "d2966f08-08fc-464c-a809-4db9d54fb18c",
   "metadata": {},
   "source": [
    "<b>English iOS Apps</b> <i>(did not require any duplicate removal)</i>"
   ]
  },
  {
   "cell_type": "code",
   "execution_count": 236,
   "id": "31cc157e-92fc-49a5-b851-768155fa6b71",
   "metadata": {},
   "outputs": [
    {
     "name": "stdout",
     "output_type": "stream",
     "text": [
      "Length of total iOS apps: 7197\n",
      "\n",
      "\n",
      "Length of English iOS apps: 6183\n",
      "Examples of English iOS apps: [['284882215', 'Facebook', '389879808', 'USD', '0.0', '2974676', '212', '3.5', '3.5', '95.0', '4+', 'Social Networking', '37', '1', '29', '1'], ['389801252', 'Instagram', '113954816', 'USD', '0.0', '2161558', '1289', '4.5', '4.0', '10.23', '12+', 'Photo & Video', '37', '0', '29', '1'], ['529479190', 'Clash of Clans', '116476928', 'USD', '0.0', '2130805', '579', '4.5', '4.5', '9.24.12', '9+', 'Games', '38', '5', '18', '1'], ['420009108', 'Temple Run', '65921024', 'USD', '0.0', '1724546', '3842', '4.5', '4.0', '1.6.2', '9+', 'Games', '40', '5', '1', '1'], ['284035177', 'Pandora - Music & Radio', '130242560', 'USD', '0.0', '1126879', '3594', '4.0', '4.5', '8.4.1', '12+', 'Music', '37', '4', '1', '1']]\n",
      "\n",
      "\n",
      "Length of non-English iOS  apps: 1014\n",
      "Examples of non-English iOS apps: [['445375097', '爱奇艺PPS -《欢乐颂2》电视剧热播', '224617472', 'USD', '0.0', '14844', '0', '4.0', '0.0', '6.3.3', '17+', 'Entertainment', '38', '5', '3', '1'], ['405667771', '聚力视频HD-人民的名义,跨界歌王全网热播', '90725376', 'USD', '0.0', '7446', '8', '4.0', '4.5', '5.0.8', '12+', 'Entertainment', '24', '4', '1', '1'], ['336141475', '优酷视频', '204959744', 'USD', '0.0', '4885', '0', '3.5', '0.0', '6.7.0', '12+', 'Entertainment', '38', '0', '2', '1'], ['425349261', '网易新闻 - 精选好内容，算出你的兴趣', '133134336', 'USD', '0.0', '4263', '6', '4.5', '1.0', '23.2', '17+', 'News', '37', '4', '2', '1'], ['387682726', '淘宝 - 随时随地，想淘就淘', '309673984', 'USD', '0.0', '3801', '6', '4.0', '4.0', '6.7.2', '4+', 'Shopping', '37', '1', '1', '1']]\n"
     ]
    }
   ],
   "source": [
    "ios_english_apps, ios_non_english_apps = find_english_apps(ios, 1)\n",
    "\n",
    "print('Length of total iOS apps:', len(ios))\n",
    "print('\\n')\n",
    "print('Length of English iOS apps:', len(ios_english_apps))\n",
    "print('Examples of English iOS apps:', ios_english_apps[:5])\n",
    "print('\\n')\n",
    "print('Length of non-English iOS  apps:', len(ios_non_english_apps))\n",
    "print('Examples of non-English iOS apps:', ios_non_english_apps[:5])                                                          "
   ]
  },
  {
   "cell_type": "markdown",
   "id": "2af9cdff-6f57-453b-a3b4-2647c57da904",
   "metadata": {},
   "source": [
    "<b>English Android Apps</b>"
   ]
  },
  {
   "cell_type": "code",
   "execution_count": 234,
   "id": "33e84f0e-b128-49de-ace3-acb42fd1b6f9",
   "metadata": {},
   "outputs": [
    {
     "name": "stdout",
     "output_type": "stream",
     "text": [
      "Length of total Android apps: 9659\n",
      "\n",
      "\n",
      "Length of English Android apps: 9614\n",
      "Examples of English Android apps: [['Photo Editor & Candy Camera & Grid & ScrapBook', 'ART_AND_DESIGN', '4.1', '159', '19M', '10,000+', 'Free', '0', 'Everyone', 'Art & Design', 'January 7, 2018', '1.0.0', '4.0.3 and up'], ['U Launcher Lite – FREE Live Cool Themes, Hide Apps', 'ART_AND_DESIGN', '4.7', '87510', '8.7M', '5,000,000+', 'Free', '0', 'Everyone', 'Art & Design', 'August 1, 2018', '1.2.4', '4.0.3 and up'], ['Sketch - Draw & Paint', 'ART_AND_DESIGN', '4.5', '215644', '25M', '50,000,000+', 'Free', '0', 'Teen', 'Art & Design', 'June 8, 2018', 'Varies with device', '4.2 and up'], ['Pixel Draw - Number Art Coloring Book', 'ART_AND_DESIGN', '4.3', '967', '2.8M', '100,000+', 'Free', '0', 'Everyone', 'Art & Design;Creativity', 'June 20, 2018', '1.1', '4.4 and up'], ['Paper flowers instructions', 'ART_AND_DESIGN', '4.4', '167', '5.6M', '50,000+', 'Free', '0', 'Everyone', 'Art & Design', 'March 26, 2017', '1.0', '2.3 and up']]\n",
      "\n",
      "\n",
      "Length of non-English Android  apps: 45\n",
      "Examples of non-English Android apps: [['Flame - درب عقلك يوميا', 'EDUCATION', '4.6', '56065', '37M', '1,000,000+', 'Free', '0', 'Everyone', 'Education', 'July 26, 2018', '3.3', '4.1 and up'], ['သိင်္ Astrology - Min Thein Kha BayDin', 'LIFESTYLE', '4.7', '2225', '15M', '100,000+', 'Free', '0', 'Everyone', 'Lifestyle', 'July 26, 2018', '4.2.1', '4.0.3 and up'], ['РИА Новости', 'NEWS_AND_MAGAZINES', '4.5', '44274', '8.0M', '1,000,000+', 'Free', '0', 'Everyone', 'News & Magazines', 'August 6, 2018', '4.0.6', '4.4 and up'], ['صور حرف H', 'ART_AND_DESIGN', '4.4', '13', '4.5M', '1,000+', 'Free', '0', 'Everyone', 'Art & Design', 'March 27, 2018', '2.0', '4.0.3 and up'], ['L.POINT - 엘포인트 [ 포인트, 멤버십, 적립, 사용, 모바일 카드, 쿠폰, 롯데]', 'LIFESTYLE', '4.0', '45224', '49M', '5,000,000+', 'Free', '0', 'Everyone', 'Lifestyle', 'August 1, 2018', '6.5.1', '4.1 and up']]\n"
     ]
    }
   ],
   "source": [
    "android_english_apps, android_non_english_apps = find_english_apps(android_clean, 0)\n",
    "\n",
    "print('Length of total Android apps:', len(android_clean))\n",
    "print('\\n')\n",
    "print('Length of English Android apps:', len(android_english_apps))\n",
    "print('Examples of English Android apps:', android_english_apps[:5])\n",
    "print('\\n')\n",
    "print('Length of non-English Android  apps:', len(android_non_english_apps))\n",
    "print('Examples of non-English Android apps:', android_non_english_apps[:5])"
   ]
  },
  {
   "cell_type": "markdown",
   "id": "4859e23e-a6ed-47c1-9d84-ded978dca160",
   "metadata": {},
   "source": [
    "### Isolating Free Apps"
   ]
  },
  {
   "cell_type": "code",
   "execution_count": 240,
   "id": "43f4284b-d289-4d92-a1c4-a8ce258185d3",
   "metadata": {},
   "outputs": [],
   "source": [
    "def find_free_apps(dataset, price_index):\n",
    "\n",
    "    free_apps = []\n",
    "    non_free_apps = []\n",
    "\n",
    "    for app in dataset: \n",
    "        price = app[price_index]\n",
    "\n",
    "        if price == str(0.0) or price == 'Free':\n",
    "            free_apps.append(app)\n",
    "        else:\n",
    "            non_free_apps.append(app)\n",
    "    return free_apps, non_free_apps"
   ]
  },
  {
   "cell_type": "markdown",
   "id": "d64faee2-7d71-422f-b818-5f57e7b2d756",
   "metadata": {},
   "source": [
    "<b>Free English iOS Apps</b>"
   ]
  },
  {
   "cell_type": "code",
   "execution_count": 242,
   "id": "1d13ca8e-9913-4b58-aafe-52a68e43dfa7",
   "metadata": {},
   "outputs": [
    {
     "name": "stdout",
     "output_type": "stream",
     "text": [
      "Length of total iOS English apps: 6183\n",
      "\n",
      "\n",
      "Length of free English iOS apps: 3222\n",
      "Examples of free English iOS apps: [['284882215', 'Facebook', '389879808', 'USD', '0.0', '2974676', '212', '3.5', '3.5', '95.0', '4+', 'Social Networking', '37', '1', '29', '1'], ['389801252', 'Instagram', '113954816', 'USD', '0.0', '2161558', '1289', '4.5', '4.0', '10.23', '12+', 'Photo & Video', '37', '0', '29', '1'], ['529479190', 'Clash of Clans', '116476928', 'USD', '0.0', '2130805', '579', '4.5', '4.5', '9.24.12', '9+', 'Games', '38', '5', '18', '1'], ['420009108', 'Temple Run', '65921024', 'USD', '0.0', '1724546', '3842', '4.5', '4.0', '1.6.2', '9+', 'Games', '40', '5', '1', '1'], ['284035177', 'Pandora - Music & Radio', '130242560', 'USD', '0.0', '1126879', '3594', '4.0', '4.5', '8.4.1', '12+', 'Music', '37', '4', '1', '1']]\n",
      "\n",
      "\n",
      "Length of non-free, non-English iOS  apps: 2961\n",
      "Examples of non-free, non-English iOS apps: [['362949845', 'Fruit Ninja Classic', '104590336', 'USD', '1.99', '698516', '132', '4.5', '4.0', '2.3.9', '4+', 'Games', '38', '5', '13', '1'], ['500116670', 'Clear Vision (17+)', '37879808', 'USD', '0.99', '541693', '69225', '4.5', '4.5', '1.1.3', '17+', 'Games', '43', '5', '1', '1'], ['479516143', 'Minecraft: Pocket Edition', '147787776', 'USD', '6.99', '522012', '1148', '4.5', '4.5', '1.1', '9+', 'Games', '37', '1', '11', '1'], ['350642635', 'Plants vs. Zombies', '105379840', 'USD', '0.99', '426463', '680', '5.0', '4.0', '1.9.13', '9+', 'Games', '38', '0', '5', '1'], ['307727765', 'Doodle Jump', '48741376', 'USD', '0.99', '395261', '88', '4.5', '4.5', '3.17.6', '4+', 'Games', '37', '0', '1', '1']]\n"
     ]
    }
   ],
   "source": [
    "ios_free_apps, ios_non_free_apps = find_free_apps(ios_english_apps, 4)\n",
    "\n",
    "print('Length of total iOS English apps:', len(ios_english_apps))\n",
    "print('\\n')\n",
    "print('Length of free English iOS apps:', len(ios_free_apps))\n",
    "print('Examples of free English iOS apps:', ios_free_apps[:5])\n",
    "print('\\n')\n",
    "print('Length of non-free, non-English iOS  apps:', len(ios_non_free_apps))\n",
    "print('Examples of non-free, non-English iOS apps:', ios_non_free_apps[:5])   "
   ]
  },
  {
   "cell_type": "markdown",
   "id": "27e820cb-83b2-4868-a54b-276e89c3b5ce",
   "metadata": {},
   "source": [
    "<b>Free English Android Apps</b>"
   ]
  },
  {
   "cell_type": "code",
   "execution_count": 244,
   "id": "373822b4-817c-4d4b-8210-ab5b9044622e",
   "metadata": {},
   "outputs": [
    {
     "name": "stdout",
     "output_type": "stream",
     "text": [
      "Length of total Android English apps: 9614\n",
      "\n",
      "\n",
      "Length of free English Android apps: 8863\n",
      "Examples of free English Android apps: [['Photo Editor & Candy Camera & Grid & ScrapBook', 'ART_AND_DESIGN', '4.1', '159', '19M', '10,000+', 'Free', '0', 'Everyone', 'Art & Design', 'January 7, 2018', '1.0.0', '4.0.3 and up'], ['U Launcher Lite – FREE Live Cool Themes, Hide Apps', 'ART_AND_DESIGN', '4.7', '87510', '8.7M', '5,000,000+', 'Free', '0', 'Everyone', 'Art & Design', 'August 1, 2018', '1.2.4', '4.0.3 and up'], ['Sketch - Draw & Paint', 'ART_AND_DESIGN', '4.5', '215644', '25M', '50,000,000+', 'Free', '0', 'Teen', 'Art & Design', 'June 8, 2018', 'Varies with device', '4.2 and up'], ['Pixel Draw - Number Art Coloring Book', 'ART_AND_DESIGN', '4.3', '967', '2.8M', '100,000+', 'Free', '0', 'Everyone', 'Art & Design;Creativity', 'June 20, 2018', '1.1', '4.4 and up'], ['Paper flowers instructions', 'ART_AND_DESIGN', '4.4', '167', '5.6M', '50,000+', 'Free', '0', 'Everyone', 'Art & Design', 'March 26, 2017', '1.0', '2.3 and up']]\n",
      "\n",
      "\n",
      "Length of non-free, non-English Android  apps: 751\n",
      "Examples of non-free, non-English Android apps: [['TurboScan: scan documents and receipts in PDF', 'BUSINESS', '4.7', '11442', '6.8M', '100,000+', 'Paid', '$4.99', 'Everyone', 'Business', 'March 25, 2018', '1.5.2', '4.0 and up'], ['Tiny Scanner Pro: PDF Doc Scan', 'BUSINESS', '4.8', '10295', '39M', '100,000+', 'Paid', '$4.99', 'Everyone', 'Business', 'April 11, 2017', '3.4.6', '3.0 and up'], ['Puffin Browser Pro', 'COMMUNICATION', '4.0', '18247', 'Varies with device', '100,000+', 'Paid', '$3.99', 'Everyone', 'Communication', 'July 5, 2018', '7.5.3.20547', '4.1 and up'], ['Truth or Dare Pro', 'DATING', 'NaN', '0', '20M', '50+', 'Paid', '$1.49', 'Teen', 'Dating', 'September 1, 2017', '1.0', '4.0 and up'], ['Private Dating, Hide App- Blue for PrivacyHider', 'DATING', 'NaN', '0', '18k', '100+', 'Paid', '$2.99', 'Everyone', 'Dating', 'July 25, 2017', '1.0.1', '4.0 and up']]\n"
     ]
    }
   ],
   "source": [
    "android_free_apps, android_non_free_apps = find_free_apps(android_english_apps, 6)\n",
    "\n",
    "print('Length of total Android English apps:', len(android_english_apps))\n",
    "print('\\n')\n",
    "print('Length of free English Android apps:', len(android_free_apps))\n",
    "print('Examples of free English Android apps:', android_free_apps[:5])\n",
    "print('\\n')\n",
    "print('Length of non-free, non-English Android  apps:', len(android_non_free_apps))\n",
    "print('Examples of non-free, non-English Android apps:', android_non_free_apps[:5])  "
   ]
  },
  {
   "cell_type": "code",
   "execution_count": 278,
   "id": "35515f1b-864b-415a-8205-e5d5da1dd484",
   "metadata": {},
   "outputs": [],
   "source": [
    "def freq_table(dataset, index): \n",
    "    cat_frequency = {}\n",
    "\n",
    "    for app in dataset:\n",
    "        category = app[index]\n",
    "\n",
    "        if category in cat_frequency:\n",
    "            cat_frequency[category] += 1\n",
    "        else:\n",
    "            cat_frequency[category] = 1\n",
    "\n",
    "    for category in cat_frequency:\n",
    "        cat_frequency[category] /= len(dataset)\n",
    "        cat_frequency[category] *= 100\n",
    "\n",
    "    return cat_frequency"
   ]
  },
  {
   "cell_type": "code",
   "execution_count": 280,
   "id": "84282c3d-e2ec-447d-a240-b2fa235f24b4",
   "metadata": {},
   "outputs": [
    {
     "name": "stdout",
     "output_type": "stream",
     "text": [
      "{'ART_AND_DESIGN': 0.6431230960171499, 'AUTO_AND_VEHICLES': 0.9251946293580051, 'BEAUTY': 0.5979916506826132, 'BOOKS_AND_REFERENCE': 2.1437436533904997, 'BUSINESS': 4.592124562789123, 'COMICS': 0.6205573733498815, 'COMMUNICATION': 3.2381812027530184, 'DATING': 1.8616721200496444, 'EDUCATION': 1.1621347173643235, 'ENTERTAINMENT': 0.9590432133589079, 'EVENTS': 0.7108202640189552, 'FINANCE': 3.7007785174320205, 'FOOD_AND_DRINK': 1.241114746699763, 'HEALTH_AND_FITNESS': 3.0802211440821394, 'HOUSE_AND_HOME': 0.8236488773552973, 'LIBRARIES_AND_DEMO': 0.9364774906916393, 'LIFESTYLE': 3.9038700214374367, 'GAME': 9.725826469592688, 'FAMILY': 18.898792733837304, 'MEDICAL': 3.5315355974275078, 'SOCIAL': 2.6627552747376737, 'SHOPPING': 2.245289405393208, 'PHOTOGRAPHY': 2.944826808078529, 'SPORTS': 3.396141261423897, 'TRAVEL_AND_LOCAL': 2.335552296062281, 'TOOLS': 8.462146000225657, 'PERSONALIZATION': 3.317161232088458, 'PRODUCTIVITY': 3.8925871601038025, 'PARENTING': 0.6544059573507841, 'WEATHER': 0.8010831546880289, 'VIDEO_PLAYERS': 1.7939749520478394, 'NEWS_AND_MAGAZINES': 2.798149610741284, 'MAPS_AND_NAVIGATION': 1.399074805370642}\n"
     ]
    }
   ],
   "source": [
    "print(freq_table(android_free_apps, 1))"
   ]
  },
  {
   "cell_type": "code",
   "execution_count": 282,
   "id": "0dab13b9-b38a-410b-a94c-58543857be11",
   "metadata": {},
   "outputs": [],
   "source": [
    "def display_table(dataset, index):\n",
    "    table = freq_table(dataset, index)\n",
    "    table_display = []\n",
    "    for key in table:\n",
    "        key_val_as_tuple = (table[key], key)\n",
    "        table_display.append(key_val_as_tuple)\n",
    "\n",
    "    table_sorted = sorted(table_display, reverse = True)\n",
    "    for entry in table_sorted:\n",
    "        print(entry[1], ':', entry[0])"
   ]
  },
  {
   "cell_type": "markdown",
   "id": "982ce437-4011-400a-bb9b-d96368156f4c",
   "metadata": {},
   "source": [
    "<b>Android Category & Genre Frequency</b>"
   ]
  },
  {
   "cell_type": "code",
   "execution_count": 288,
   "id": "9560d9a1-f380-4f99-9c8d-cabc6b60ba09",
   "metadata": {},
   "outputs": [
    {
     "name": "stdout",
     "output_type": "stream",
     "text": [
      "Android Category\n",
      "FAMILY : 18.898792733837304\n",
      "GAME : 9.725826469592688\n",
      "TOOLS : 8.462146000225657\n",
      "BUSINESS : 4.592124562789123\n",
      "LIFESTYLE : 3.9038700214374367\n",
      "PRODUCTIVITY : 3.8925871601038025\n",
      "FINANCE : 3.7007785174320205\n",
      "MEDICAL : 3.5315355974275078\n",
      "SPORTS : 3.396141261423897\n",
      "PERSONALIZATION : 3.317161232088458\n",
      "COMMUNICATION : 3.2381812027530184\n",
      "HEALTH_AND_FITNESS : 3.0802211440821394\n",
      "PHOTOGRAPHY : 2.944826808078529\n",
      "NEWS_AND_MAGAZINES : 2.798149610741284\n",
      "SOCIAL : 2.6627552747376737\n",
      "TRAVEL_AND_LOCAL : 2.335552296062281\n",
      "SHOPPING : 2.245289405393208\n",
      "BOOKS_AND_REFERENCE : 2.1437436533904997\n",
      "DATING : 1.8616721200496444\n",
      "VIDEO_PLAYERS : 1.7939749520478394\n",
      "MAPS_AND_NAVIGATION : 1.399074805370642\n",
      "FOOD_AND_DRINK : 1.241114746699763\n",
      "EDUCATION : 1.1621347173643235\n",
      "ENTERTAINMENT : 0.9590432133589079\n",
      "LIBRARIES_AND_DEMO : 0.9364774906916393\n",
      "AUTO_AND_VEHICLES : 0.9251946293580051\n",
      "HOUSE_AND_HOME : 0.8236488773552973\n",
      "WEATHER : 0.8010831546880289\n",
      "EVENTS : 0.7108202640189552\n",
      "PARENTING : 0.6544059573507841\n",
      "ART_AND_DESIGN : 0.6431230960171499\n",
      "COMICS : 0.6205573733498815\n",
      "BEAUTY : 0.5979916506826132\n",
      "None\n",
      "\n",
      "\n",
      "Android Genre\n",
      "Tools : 8.450863138892023\n",
      "Entertainment : 6.070179397495204\n",
      "Education : 5.348076272142616\n",
      "Business : 4.592124562789123\n",
      "Productivity : 3.8925871601038025\n",
      "Lifestyle : 3.8925871601038025\n",
      "Finance : 3.7007785174320205\n",
      "Medical : 3.5315355974275078\n",
      "Sports : 3.463838429425702\n",
      "Personalization : 3.317161232088458\n",
      "Communication : 3.2381812027530184\n",
      "Action : 3.102786866749408\n",
      "Health & Fitness : 3.0802211440821394\n",
      "Photography : 2.944826808078529\n",
      "News & Magazines : 2.798149610741284\n",
      "Social : 2.6627552747376737\n",
      "Travel & Local : 2.324269434728647\n",
      "Shopping : 2.245289405393208\n",
      "Books & Reference : 2.1437436533904997\n",
      "Simulation : 2.042197901387792\n",
      "Dating : 1.8616721200496444\n",
      "Arcade : 1.8503892587160102\n",
      "Video Players & Editors : 1.771409229380571\n",
      "Casual : 1.7601263680469368\n",
      "Maps & Navigation : 1.399074805370642\n",
      "Food & Drink : 1.241114746699763\n",
      "Puzzle : 1.128286133363421\n",
      "Racing : 0.9928917973598104\n",
      "Role Playing : 0.9364774906916393\n",
      "Libraries & Demo : 0.9364774906916393\n",
      "Auto & Vehicles : 0.9251946293580051\n",
      "Strategy : 0.9026289066907368\n",
      "House & Home : 0.8236488773552973\n",
      "Weather : 0.8010831546880289\n",
      "Events : 0.7108202640189552\n",
      "Adventure : 0.6769716800180525\n",
      "Comics : 0.6092745120162473\n",
      "Beauty : 0.5979916506826132\n",
      "Art & Design : 0.5979916506826132\n",
      "Parenting : 0.4964458986799052\n",
      "Card : 0.4513144533453684\n",
      "Casino : 0.42874873067809993\n",
      "Trivia : 0.4174658693444658\n",
      "Educational;Education : 0.3949001466771973\n",
      "Board : 0.38361728534356315\n",
      "Educational : 0.37233442400992894\n",
      "Education;Education : 0.33848584000902626\n",
      "Word : 0.25950581067358686\n",
      "Casual;Pretend Play : 0.2369400880063184\n",
      "Music : 0.20309150400541578\n",
      "Racing;Action & Adventure : 0.16924292000451313\n",
      "Puzzle;Brain Games : 0.16924292000451313\n",
      "Entertainment;Music & Video : 0.16924292000451313\n",
      "Casual;Brain Games : 0.1353943360036105\n",
      "Casual;Action & Adventure : 0.1353943360036105\n",
      "Arcade;Action & Adventure : 0.1241114746699763\n",
      "Action;Action & Adventure : 0.10154575200270789\n",
      "Educational;Pretend Play : 0.09026289066907367\n",
      "Simulation;Action & Adventure : 0.07898002933543948\n",
      "Parenting;Education : 0.07898002933543948\n",
      "Entertainment;Brain Games : 0.07898002933543948\n",
      "Board;Brain Games : 0.07898002933543948\n",
      "Parenting;Music & Video : 0.06769716800180525\n",
      "Educational;Brain Games : 0.06769716800180525\n",
      "Casual;Creativity : 0.06769716800180525\n",
      "Art & Design;Creativity : 0.06769716800180525\n",
      "Education;Pretend Play : 0.05641430666817105\n",
      "Role Playing;Pretend Play : 0.045131445334536835\n",
      "Education;Creativity : 0.045131445334536835\n",
      "Role Playing;Action & Adventure : 0.033848584000902626\n",
      "Puzzle;Action & Adventure : 0.033848584000902626\n",
      "Entertainment;Creativity : 0.033848584000902626\n",
      "Entertainment;Action & Adventure : 0.033848584000902626\n",
      "Educational;Creativity : 0.033848584000902626\n",
      "Educational;Action & Adventure : 0.033848584000902626\n",
      "Education;Music & Video : 0.033848584000902626\n",
      "Education;Brain Games : 0.033848584000902626\n",
      "Education;Action & Adventure : 0.033848584000902626\n",
      "Adventure;Action & Adventure : 0.033848584000902626\n",
      "Video Players & Editors;Music & Video : 0.022565722667268417\n",
      "Sports;Action & Adventure : 0.022565722667268417\n",
      "Simulation;Pretend Play : 0.022565722667268417\n",
      "Puzzle;Creativity : 0.022565722667268417\n",
      "Music;Music & Video : 0.022565722667268417\n",
      "Entertainment;Pretend Play : 0.022565722667268417\n",
      "Casual;Education : 0.022565722667268417\n",
      "Board;Action & Adventure : 0.022565722667268417\n",
      "Video Players & Editors;Creativity : 0.011282861333634209\n",
      "Trivia;Education : 0.011282861333634209\n",
      "Travel & Local;Action & Adventure : 0.011282861333634209\n",
      "Tools;Education : 0.011282861333634209\n",
      "Strategy;Education : 0.011282861333634209\n",
      "Strategy;Creativity : 0.011282861333634209\n",
      "Strategy;Action & Adventure : 0.011282861333634209\n",
      "Simulation;Education : 0.011282861333634209\n",
      "Role Playing;Brain Games : 0.011282861333634209\n",
      "Racing;Pretend Play : 0.011282861333634209\n",
      "Puzzle;Education : 0.011282861333634209\n",
      "Parenting;Brain Games : 0.011282861333634209\n",
      "Music & Audio;Music & Video : 0.011282861333634209\n",
      "Lifestyle;Pretend Play : 0.011282861333634209\n",
      "Lifestyle;Education : 0.011282861333634209\n",
      "Health & Fitness;Education : 0.011282861333634209\n",
      "Health & Fitness;Action & Adventure : 0.011282861333634209\n",
      "Entertainment;Education : 0.011282861333634209\n",
      "Communication;Creativity : 0.011282861333634209\n",
      "Comics;Creativity : 0.011282861333634209\n",
      "Casual;Music & Video : 0.011282861333634209\n",
      "Card;Action & Adventure : 0.011282861333634209\n",
      "Books & Reference;Education : 0.011282861333634209\n",
      "Art & Design;Pretend Play : 0.011282861333634209\n",
      "Art & Design;Action & Adventure : 0.011282861333634209\n",
      "Arcade;Pretend Play : 0.011282861333634209\n",
      "Adventure;Education : 0.011282861333634209\n",
      "None\n"
     ]
    }
   ],
   "source": [
    "print(\"Android Category\")\n",
    "print(display_table(android_free_apps, 1))\n",
    "print(\"\\n\")\n",
    "print(\"Android Genre\")\n",
    "print(display_table(android_free_apps, 9))"
   ]
  },
  {
   "cell_type": "markdown",
   "id": "a40a936f-19aa-42c5-adb3-4e3c0da95bb2",
   "metadata": {},
   "source": [
    "<b>iOS Prime Genre Frequency</b>"
   ]
  },
  {
   "cell_type": "code",
   "execution_count": 294,
   "id": "5af22378-8fa4-448c-8762-8d3fa0860e96",
   "metadata": {},
   "outputs": [
    {
     "name": "stdout",
     "output_type": "stream",
     "text": [
      "iOS Prime Genre\n",
      "Games : 58.16263190564867\n",
      "Entertainment : 7.883302296710118\n",
      "Photo & Video : 4.9658597144630665\n",
      "Education : 3.662321539416512\n",
      "Social Networking : 3.2898820608317814\n",
      "Shopping : 2.60707635009311\n",
      "Utilities : 2.5139664804469275\n",
      "Sports : 2.1415270018621975\n",
      "Music : 2.0484171322160147\n",
      "Health & Fitness : 2.0173805090006205\n",
      "Productivity : 1.7380509000620732\n",
      "Lifestyle : 1.5828677839851024\n",
      "News : 1.3345747982619491\n",
      "Travel : 1.2414649286157666\n",
      "Finance : 1.1173184357541899\n",
      "Weather : 0.8690254500310366\n",
      "Food & Drink : 0.8069522036002483\n",
      "Reference : 0.5586592178770949\n",
      "Business : 0.5276225946617008\n",
      "Book : 0.4345127250155183\n",
      "Navigation : 0.186219739292365\n",
      "Medical : 0.186219739292365\n",
      "Catalogs : 0.12414649286157665\n",
      "None\n"
     ]
    }
   ],
   "source": [
    "print(\"iOS Prime Genre\")\n",
    "print(display_table(ios_free_apps, 11))"
   ]
  },
  {
   "cell_type": "markdown",
   "id": "42d09dd7-f6a6-4ac3-8dbb-6e97bf055d3b",
   "metadata": {},
   "source": [
    "<b>iOS Prime Genre Average Number of User Ratings</b> <i>Used as a proxy for number of downloads</i>"
   ]
  },
  {
   "cell_type": "code",
   "execution_count": 310,
   "id": "8e67c264-324e-408f-ab2e-d6d3d9bf6b1b",
   "metadata": {},
   "outputs": [],
   "source": [
    "genre_frequency = freq_table(ios_free_apps, 11)\n",
    "\n",
    "def avg_user_rating(frequency_table, dataset, index_rating, index_genre): \n",
    "\n",
    "    for genre in frequency_table:\n",
    "        total = 0\n",
    "        len_genre = 0\n",
    "\n",
    "        for app in dataset:\n",
    "            genre_app = app[index_genre]\n",
    "\n",
    "            if genre_app == genre:\n",
    "                num_user_ratings = float(app[index_rating])\n",
    "                total += num_user_ratings\n",
    "                len_genre += 1\n",
    "\n",
    "        average_user_ratings = total / len_genre\n",
    "        print(genre, \":\", average_user_ratings)"
   ]
  },
  {
   "cell_type": "code",
   "execution_count": 314,
   "id": "ea8020cc-d69b-49bb-ab31-cee9198a2483",
   "metadata": {},
   "outputs": [
    {
     "name": "stdout",
     "output_type": "stream",
     "text": [
      "Social Networking : 71548.34905660378\n",
      "Photo & Video : 28441.54375\n",
      "Games : 22788.6696905016\n",
      "Music : 57326.530303030304\n",
      "Reference : 74942.11111111111\n",
      "Health & Fitness : 23298.015384615384\n",
      "Weather : 52279.892857142855\n",
      "Utilities : 18684.456790123455\n",
      "Travel : 28243.8\n",
      "Shopping : 26919.690476190477\n",
      "News : 21248.023255813954\n",
      "Navigation : 86090.33333333333\n",
      "Lifestyle : 16485.764705882353\n",
      "Entertainment : 14029.830708661417\n",
      "Food & Drink : 33333.92307692308\n",
      "Sports : 23008.898550724636\n",
      "Book : 39758.5\n",
      "Finance : 31467.944444444445\n",
      "Education : 7003.983050847458\n",
      "Productivity : 21028.410714285714\n",
      "Business : 7491.117647058823\n",
      "Catalogs : 4004.0\n",
      "Medical : 612.0\n",
      "None\n"
     ]
    }
   ],
   "source": [
    "print(avg_user_rating(genre_frequency, ios_free_apps, 5, 11))"
   ]
  }
 ],
 "metadata": {
  "kernelspec": {
   "display_name": "Python 3 (ipykernel)",
   "language": "python",
   "name": "python3"
  },
  "language_info": {
   "codemirror_mode": {
    "name": "ipython",
    "version": 3
   },
   "file_extension": ".py",
   "mimetype": "text/x-python",
   "name": "python",
   "nbconvert_exporter": "python",
   "pygments_lexer": "ipython3",
   "version": "3.12.4"
  }
 },
 "nbformat": 4,
 "nbformat_minor": 5
}
